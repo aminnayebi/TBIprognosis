{
 "cells": [
  {
   "cell_type": "code",
   "execution_count": 1,
   "id": "ff74a91a-a0b7-434d-a414-ea5df237b7bc",
   "metadata": {},
   "outputs": [
    {
     "name": "stderr",
     "output_type": "stream",
     "text": [
      "2022-07-27 00:14:05.143390: W tensorflow/stream_executor/platform/default/dso_loader.cc:64] Could not load dynamic library 'libcudart.so.11.0'; dlerror: libcudart.so.11.0: cannot open shared object file: No such file or directory\n",
      "2022-07-27 00:14:05.143416: I tensorflow/stream_executor/cuda/cudart_stub.cc:29] Ignore above cudart dlerror if you do not have a GPU set up on your machine.\n"
     ]
    }
   ],
   "source": [
    "from shap_util import *"
   ]
  },
  {
   "cell_type": "code",
   "execution_count": 52,
   "id": "8f853604-70ff-4eb4-b9b9-950b7b90de98",
   "metadata": {},
   "outputs": [],
   "source": [
    "class Model():\n",
    "    def predict(self, x):\n",
    "        num_step = x.shape[1]\n",
    "        num_feature = x.shape[2]\n",
    "        idx = np.arange(num_step)\n",
    "        idx = idx[..., np.newaxis]\n",
    "        x = x*idx\n",
    "        return np.sum(x)\n",
    "\n",
    "\n",
    "model = Model()\n",
    "relevence = np.array([[[6,10,8,9,7,5,4,3,2,1],\n",
    "                              [20,19,18,17,16,15,14,13,12,11]]])/20\n",
    "input_x = np.array([[[1,2,3,4,5,6,7,8,9,10],\n",
    "                              [11,12,13,14,15,16,17,18,19,20]]])\n",
    "relevence = relevence.transpose((0,2,1))\n",
    "input_x = input_x.transpose((0,2,1))\n",
    "\n",
    "model_type='lstm'\n",
    "percentile = 75\n",
    "eval_type = 'sqnc_eval'\n",
    "seq_len = 3\n",
    "input_new = deepcopy(input_x)\n",
    "relevence = np.absolute(relevence)\n",
    "\n",
    "# TO DO: Add other type of models\n",
    "if model_type == 'grud':\n",
    "    input_ts = input_x[0]\n",
    "    input_new_ts = input_new[0]\n",
    "elif model_type == 'lstm':\n",
    "    input_ts = input_x\n",
    "    input_new_ts = input_new\n",
    "\n",
    "assert len(input_ts.shape)==3 # the time sereis data needs to be 3-dimensional\n",
    "\n",
    "top_steps = int((1 - percentile/100) * input_ts.shape[1])\n",
    "top_indices = np.argsort(relevence, axis=1)[:, -top_steps:, :]\n"
   ]
  },
  {
   "cell_type": "code",
   "execution_count": 54,
   "id": "3910f141-6b52-49b4-9a5f-5d97a0976e97",
   "metadata": {},
   "outputs": [
    {
     "data": {
      "text/plain": [
       "1098"
      ]
     },
     "execution_count": 54,
     "metadata": {},
     "output_type": "execute_result"
    }
   ],
   "source": [
    "# Evaluating different metrics\n",
    "for p in range(input_ts.shape[0]):\n",
    "    for v in range(input_ts.shape[2]):\n",
    "        for t in top_indices[p,:,v]:\n",
    "            if eval_type == 'prtb':\n",
    "                input_new_ts[p,t,v] = np.max(input_ts[p,:,v]) - input_ts[p,t,v]\n",
    "            elif eval_type == 'sqnc_eval':\n",
    "                input_new_ts[p, t:t + seq_len, v] = np.mean(input_ts[p, t:t + seq_len, v])\n",
    "model.predict(input_new)"
   ]
  },
  {
   "cell_type": "code",
   "execution_count": 53,
   "id": "965f46fe-3149-49f9-8f67-da261af42bdb",
   "metadata": {},
   "outputs": [
    {
     "data": {
      "text/plain": [
       "array([[[3, 1],\n",
       "        [1, 0]]])"
      ]
     },
     "execution_count": 53,
     "metadata": {},
     "output_type": "execute_result"
    }
   ],
   "source": [
    "top_indices"
   ]
  },
  {
   "cell_type": "code",
   "execution_count": 50,
   "id": "6e8fa72f-dd53-4e11-aaf7-b65e8547d0a4",
   "metadata": {},
   "outputs": [
    {
     "data": {
      "text/plain": [
       "2"
      ]
     },
     "execution_count": 50,
     "metadata": {},
     "output_type": "execute_result"
    }
   ],
   "source": [
    "top_steps"
   ]
  },
  {
   "cell_type": "code",
   "execution_count": 55,
   "id": "f13a4491-1a88-42ac-8097-fa34b177684a",
   "metadata": {},
   "outputs": [
    {
     "data": {
      "text/plain": [
       "array([[[ 1, 12],\n",
       "        [ 3, 12],\n",
       "        [ 3, 12],\n",
       "        [ 3, 13],\n",
       "        [ 5, 15],\n",
       "        [ 5, 16],\n",
       "        [ 7, 17],\n",
       "        [ 8, 18],\n",
       "        [ 9, 19],\n",
       "        [10, 20]]])"
      ]
     },
     "execution_count": 55,
     "metadata": {},
     "output_type": "execute_result"
    }
   ],
   "source": [
    "input_new_ts"
   ]
  },
  {
   "cell_type": "code",
   "execution_count": null,
   "id": "522cb3ac-8f85-4e06-b49d-2c63742da069",
   "metadata": {},
   "outputs": [],
   "source": []
  }
 ],
 "metadata": {
  "kernelspec": {
   "display_name": "Python 3 (ipykernel)",
   "language": "python",
   "name": "python3"
  },
  "language_info": {
   "codemirror_mode": {
    "name": "ipython",
    "version": 3
   },
   "file_extension": ".py",
   "mimetype": "text/x-python",
   "name": "python",
   "nbconvert_exporter": "python",
   "pygments_lexer": "ipython3",
   "version": "3.9.6"
  }
 },
 "nbformat": 4,
 "nbformat_minor": 5
}
